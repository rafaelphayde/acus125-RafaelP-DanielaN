{
 "cells": [
  {
   "cell_type": "code",
   "execution_count": 1,
   "id": "d0e9b304",
   "metadata": {},
   "outputs": [
    {
     "data": {
      "text/html": [
       "<!-- Mejorar visualización en proyector -->\n",
       "<style>\n",
       ".rendered_html {font-size: 1.2em; line-height: 150%;}\n",
       "div.prompt {min-width: 0ex; }\n",
       ".container {width:95% !important;}\n",
       "</style>\n"
      ],
      "text/plain": [
       "<IPython.core.display.HTML object>"
      ]
     },
     "metadata": {},
     "output_type": "display_data"
    }
   ],
   "source": [
    "%%HTML\n",
    "<!-- Mejorar visualización en proyector -->\n",
    "<style>\n",
    ".rendered_html {font-size: 1.2em; line-height: 150%;}\n",
    "div.prompt {min-width: 0ex; }\n",
    ".container {width:95% !important;}\n",
    "</style>"
   ]
  },
  {
   "cell_type": "markdown",
   "id": "ad295772",
   "metadata": {},
   "source": [
    "<h1 style=\"text-align:center\">Tarea grupal 1</h1>\n",
    "<h3 style=\"text-align:center\">ACUS125: Aislamiento y Análisis de Vibraciones</h3>\n",
    "<p style=\"text-align:center\">Daniela Narváez E.  <br>\n",
    "<a href=\"mailto:vpoblete@uach.cl\">daniela.narvaez01@alumnos.uach.cl</a><br>\n",
    "<p style=\"text-align:center\">Rafael Peñailillo H. <br>\n",
    "<a href=\"mailto:vpoblete@uach.cl\">rafael.penailillo@alumnos.uach.cl</a><br>"
   ]
  },
  {
   "cell_type": "markdown",
   "id": "e38f7ed7",
   "metadata": {},
   "source": [
    "## Ejercicio propuesto:\n",
    "> + Una barra rígida, uniforme, de masa total ${\\text{m}}$ y longitud ${\\text{L}_{\\text{2}}}$, está suspendida en el punto ${\\text{0}}$ por una cuerda de longitud ${\\text{L}_{\\text{1}}}$. Sobre la barra actúa una fuerza horizontal ${\\text{F}}$ como se muestra en la figura 1.\n",
    "<p style=\"text-align:center\">\n",
    "\t<img src=\"barra.jpg\" alt=\"Barra rígida\" width=40%/></a><br>\n",
    "    <strong> Figura 1: Barra rígida sobre una cuerda. </strong>  \n",
    "</p>\n",
    "\n",
    "> 1. Usar los desplazamientos angulares $\\theta_{\\text{1}}$ y $\\theta_{\\text{2}}$ para definir la posición, velocidad y aceleración del centro de masa $\\text{C}$, en términos de los ejes del cuerpo $\\hat{r}_{2}$ y $\\hat{\\theta}_{2}$\n",
    "> 2. Derivar las ecuaciones de movimiento para la traslación y rotación sobre $\\text{C}$."
   ]
  },
  {
   "cell_type": "markdown",
   "id": "791e2ce2",
   "metadata": {},
   "source": [
    "## Desarrollo:"
   ]
  },
  {
   "cell_type": "markdown",
   "id": "f693e859",
   "metadata": {},
   "source": [
    "+ Punto 1: Usar los desplazamientos angulares $\\theta_{\\text{1}}$ y $\\theta_{\\text{2}}$ para definir la posición, velocidad y aceleración del centro de masa $\\text{C}$, en términos de los ejes del cuerpo $\\hat{r}_{2}$ y $\\hat{\\theta}_{2}$"
   ]
  },
  {
   "cell_type": "markdown",
   "id": "a0cc5677",
   "metadata": {},
   "source": [
    "Para esto, sabemos que en movimiento circular, las ecuaciones que rigen a la velocidad y la aceleración son:"
   ]
  },
  {
   "cell_type": "markdown",
   "id": "e86c14b7",
   "metadata": {},
   "source": [
    "\\begin{equation}\n",
    "    \\begin{aligned}\n",
    "    \\bf{\\overrightarrow{v}}&=\\,r\\,\\dot{\\theta}\\,\\hat{\\theta} \\\\\n",
    "    \\bf{\\overrightarrow{a}}&=\\,-\\,r\\,\\dot{\\theta}\\,^{2}\\,\\hat{r}\\,+\\,r\\,\\ddot{\\theta}\\,\\hat{\\theta}\n",
    "    \\end{aligned}\n",
    "    \\label{1}\\tag{1}\n",
    "\\end{equation}"
   ]
  },
  {
   "cell_type": "markdown",
   "id": "3b2b5d3d",
   "metadata": {},
   "source": [
    "Para resolver este problema, comenzamos expresando la posición, velocidad y aceleración del centro de masa. Entonces, se debe sumar los vectores que recorran el camino desde el punto $O$, hasta llegar al centro de masa $C$. Con esto, para la posición tenemos que el largo total es la suma de $L_1$ y $\\frac{L_2}{2}$. Para los otros casos, ocupando las ecuaciones descritas en $(1)$ tenemos:"
   ]
  },
  {
   "cell_type": "markdown",
   "id": "afb366fe",
   "metadata": {},
   "source": [
    "\\begin{align}\n",
    "    {\\bf{r}}_{C} &={\\bf{r}}_{A}+{\\bf{r}}_{AC} = L_{1} \\hat{r_1} + \\frac{L_{2}}{2}\\hat{r_2}\n",
    "\\label{eq2}\\tag{2}\n",
    "\\end{align}"
   ]
  },
  {
   "cell_type": "markdown",
   "id": "6263b6c9",
   "metadata": {},
   "source": [
    "\\begin{align}\n",
    "    {\\bf{v}}_{C} &={\\bf{v}}_{A}+{\\bf{v}}_{AC} = L_{1}\\dot{\\theta_{1}}\\hat{\\theta}_{1} + \\frac{L_{2}}{2}\\dot{\\theta_{2}}\\hat{\\theta}_{2}\n",
    "\\label{eq3}\\tag{3}\n",
    "\\end{align}"
   ]
  },
  {
   "cell_type": "markdown",
   "id": "ba113ac9",
   "metadata": {},
   "source": [
    "\\begin{align}\n",
    "    {\\bf{a}}_{C} &={\\bf{a}}_{A}+{\\bf{a}}_{AC} = -L_{1}\\dot{\\theta_{1}^2}\\hat{r_1} + L_{1}\\ddot{\\theta}_{1}\\hat{\\theta}_{1} -\\frac{L_2}{2}\\dot{\\theta_{2}^2}\\hat{r_2} + \\frac{L_2}{2}\\ddot{\\theta}_{2}\\hat{\\theta}_{2}\n",
    "\\label{eq4}\\tag{4}\n",
    "\\end{align}"
   ]
  },
  {
   "cell_type": "markdown",
   "id": "17c32073",
   "metadata": {},
   "source": [
    "Expresadas las ecuaciones, utilizando geometría y traslación de los vectores podemos despejar $\\hat{r}_{1}$ y $\\hat{\\theta}_1$ en función  de $\\hat{r}_{2}$ y $\\hat{\\theta}_2$"
   ]
  },
  {
   "cell_type": "markdown",
   "id": "1fced1ed",
   "metadata": {},
   "source": [
    "<p style=\"text-align:center\">\n",
    "\t<img src=\"dibujo.png\" alt=\"MDOF\" width=90%/></a><br>\n",
    "    <strong> Figura 2: Recuperada de L. Meirovitch. (2001). Fundamentals of Vibrations. McGRAW-HILL International Edition. (Editada) </strong>\n",
    "</p>"
   ]
  },
  {
   "cell_type": "markdown",
   "id": "37815c7a",
   "metadata": {},
   "source": [
    "De este análisis gráfico, obtenemos las siguientes expresiones:"
   ]
  },
  {
   "cell_type": "markdown",
   "id": "e26f5489",
   "metadata": {},
   "source": [
    "\\begin{equation}\n",
    "    \\begin{aligned}\n",
    "    \\hat{r}_{1} &=\\cos(\\theta_{2}-\\theta_{1})\\hat{r}_{2} - \\sin(\\theta_{2}-\\theta_{2})\\hat{\\theta}_{2} \\\\\n",
    "    \\hat{\\theta}_{1} &=\\sin(\\theta_{2}-\\theta_{1})\\hat{r}_{2} + \\cos(\\theta_{2}-\\theta_{2})\\hat{\\theta}_{2}\n",
    "    \\end{aligned}\n",
    "    \\label{eq5}\\tag{5} \n",
    "\\end{equation}"
   ]
  },
  {
   "cell_type": "markdown",
   "id": "277781ee",
   "metadata": {},
   "source": [
    "Reemplazamos las ecuaciones de $(5)$ en las ecuaciones $(2), (3)$ y $(4)$ correspondientemente."
   ]
  },
  {
   "cell_type": "markdown",
   "id": "1a91961d",
   "metadata": {},
   "source": [
    "Para el vector de **posición** tenemos:"
   ]
  },
  {
   "cell_type": "markdown",
   "id": "f5ab2a8a",
   "metadata": {},
   "source": [
    "\\begin{align}\n",
    "    {\\bf{r}}_{C} & =L_{1}\\left(\\cos(\\theta_{2}-\\theta_{1})\\hat{r}_{2} - \\sin(\\theta_{2}-\\theta_{2})\\hat{\\theta}_{2}\\right) + \\frac{L_{2}}{2}\\hat{r_2} \\\\\n",
    "    {\\bf{r}}_{C} & =L_{1}\\cos(\\theta_{2}-\\theta_{1})\\hat{r}_{2} - L_{1}\\sin(\\theta_{2}-\\theta_{2})\\hat{\\theta}_{2} + \\frac{L_{2}}{2}\\hat{r_2} \n",
    "\\end{align}\n",
    "\\begin{align}\n",
    "{\\bf{r}}_{C} & =\\left[L_{1}\\cos(\\theta_{2}-\\theta_{1}) + \\frac{L_{2}}{2}\\right]\\hat{r}_{2} - L_{1}\\sin(\\theta_{2}-\\theta_{2})\\hat{\\theta}_{2}\n",
    "\\label{6}\\tag{6}\n",
    "\\end{align}"
   ]
  },
  {
   "cell_type": "markdown",
   "id": "7b238df1",
   "metadata": {},
   "source": [
    "Para el vector de **velocidad**:"
   ]
  },
  {
   "cell_type": "markdown",
   "id": "54416eae",
   "metadata": {},
   "source": [
    "\\begin{align}\n",
    "{\\bf{v}}_{C} & =L_{1}\\dot{\\theta}_{1}\\left(\\sin(\\theta_{2}-\\theta_{1})\\hat{r}_{2} + \\cos(\\theta_{2}-\\theta_{1})\\hat{\\theta}_{2} \\right) + \\frac{L_{2}}{2} \\dot{\\theta}_{2}\\hat{\\theta}_{2}\n",
    "\\end{align}\n",
    "\\begin{align}\n",
    "{\\bf{v}}_{C} & =L_{1}\\dot{\\theta}_{1}\\sin(\\theta_{2}-\\theta_{1})\\hat{r}_{2} + \\left[L_{1}\\dot{\\theta}_{1}\\cos(\\theta_{2}-\\theta_{1}) + \\frac{L_{2}}{2}\\dot{\\theta}_{2}\\right]\\hat{\\theta}_{2}\n",
    "\\label{7}\\tag{7}\n",
    "\\end{align}"
   ]
  },
  {
   "cell_type": "markdown",
   "id": "2a82cb15",
   "metadata": {},
   "source": [
    "Y finalmente, para el vector de **aceleración**:"
   ]
  },
  {
   "cell_type": "markdown",
   "id": "7d720ae8",
   "metadata": {},
   "source": [
    "\\begin{align}\n",
    "{\\bf{a}}_{C} & = -L_{1}\\dot{\\theta}_{1}^2 \\left[\\cos(\\theta_{2}-\\theta_{1})\\hat{r}_{2} - \\sin(\\theta_{2}-\\theta_{2})\\hat{\\theta}_{2}\\right] + L_{1}\\ddot{\\theta}_{1}\\left[\\sin(\\theta_{2}-\\theta_{1})\\hat{r}_{2} + \\cos(\\theta_{2}-\\theta_{2})\\hat{\\theta}_{2}\\right] - \\frac{L_{2}}{2}\\dot{\\theta}_{2}^2\\hat{r}_{2} + \\frac{L_{2}}{2}\\ddot{\\theta}_{2}\\hat{\\theta}_{2}\n",
    "\\end{align}"
   ]
  },
  {
   "cell_type": "markdown",
   "id": "125989a7",
   "metadata": {},
   "source": [
    "\\begin{align}\n",
    "{\\bf{a}}_{C} &=\\left[L_1\\ddot\\theta_1sin(\\theta_2-\\theta_1)-L_1\\dot{\\theta_1^2}cos(\\theta_2-\\theta_1)-\\frac{L_2}{2}{\\dot\\theta_2^2}\\right]\\hat{r_2}+\\left[L_1\\ddot\\theta_1cos(\\theta_2-\\theta_1)+L_1{\\dot\\theta_1^2}sin(\\theta_2-\\theta_1)+\\frac{L_2}{2}\\ddot\\theta_2\\right]\\hat\\theta_2\n",
    "\\label{8}\\tag{8}\n",
    "\\end{align}"
   ]
  },
  {
   "cell_type": "markdown",
   "id": "4d27e537",
   "metadata": {},
   "source": [
    "+ Punto 2. Derivar las ecuaciones de movimiento para la traslación y rotación sobre $\\text{C}$."
   ]
  },
  {
   "cell_type": "markdown",
   "id": "59772ba0",
   "metadata": {},
   "source": [
    "Para derivar las ecuaciones de movimiento, analizamos el diagrama de cuerpo libre y aplicamos la segunda ley de Newton, en este caso para cada uno de los ejes de movimiento sobre la barra. $\\hat{r}_{2}$ y $\\hat{\\theta}_{2}$"
   ]
  },
  {
   "cell_type": "markdown",
   "id": "5f8b86bc",
   "metadata": {},
   "source": [
    "En este caso, tendremos las componentes de las fuerzas ejercidas sobre el cuerpo en función de $\\hat{r}_{2}$ y $\\hat{\\theta}_{2}$ y la ecuación de momentum derivada en clases anteriormente:\n",
    "\n",
    "\\begin{equation}\n",
    "\\begin{aligned}\n",
    "F_{r2} &= ma_{Cr2} \\\\\n",
    "F_{\\theta2} &= ma_{C\\theta2} \\\\\n",
    "M_{C} &= I_{C}\\alpha,\n",
    "\\end{aligned}\n",
    "\\label{9}\\tag{9}\n",
    "\\end{equation}\n",
    "\n",
    "en donde $\\alpha$ es la velocidad angular: $\\alpha = \\ddot{\\theta}_{2}$"
   ]
  },
  {
   "cell_type": "markdown",
   "id": "daf8d59f",
   "metadata": {},
   "source": [
    "El siguiente paso es descomponer las fuerzas ejercidas en vectores que vayan en dirección $\\hat{r}_{2}$ y $\\hat{\\theta}_{2}$ correspondientemente."
   ]
  },
  {
   "cell_type": "markdown",
   "id": "5c7f4d79",
   "metadata": {},
   "source": [
    "Para el caso de la fuerza $F$, realizamos la descomposición de la siguiente manera:"
   ]
  },
  {
   "cell_type": "markdown",
   "id": "fc30de53",
   "metadata": {},
   "source": [
    "<p style=\"text-align:center\">\n",
    "\t<img src=\"fuerza_F.png\" width=30%/></a><br>\n",
    "    <strong> Figura 3: Recuperada de L. Meirovitch. (2001). Fundamentals of Vibrations. McGRAW-HILL International Edition. (Editada) </strong>\n",
    "</p>"
   ]
  },
  {
   "cell_type": "markdown",
   "id": "d1a304fb",
   "metadata": {},
   "source": [
    "Trasladando el vector $\\bf{F}_{\\hat{r2}}$, podemos formar un triángulo rectángulo en el cual obtenemos lo siguiente:"
   ]
  },
  {
   "cell_type": "markdown",
   "id": "d52ccae6",
   "metadata": {},
   "source": [
    "\\begin{equation}\n",
    "\\begin{aligned}\n",
    "\\bf{F}_{\\hat{r2}} &= F\\sin(\\theta_{2}) \\\\\n",
    "\\bf{F}_{\\hat\\theta2} &= F\\cos(\\theta_{2})\n",
    "\\end{aligned}\n",
    "\\label{10}\\tag{10}\n",
    "\\end{equation}"
   ]
  },
  {
   "cell_type": "markdown",
   "id": "24646058",
   "metadata": {},
   "source": [
    "Y de aquí podemos ver que:\n",
    "\\begin{align}\n",
    "\\bf{F} = F\\sin(\\theta_{2}) + F\\cos(\\theta_{2})\n",
    "\\end{align}"
   ]
  },
  {
   "cell_type": "markdown",
   "id": "6646978a",
   "metadata": {},
   "source": [
    "Para la fuerza peso $mg$, descomponemos de igual manera que la fuerza $F$:"
   ]
  },
  {
   "cell_type": "markdown",
   "id": "53fdb39b",
   "metadata": {},
   "source": [
    "<p style=\"text-align:center\">\n",
    "\t<img src=\"mg.png\" width=30%/></a><br>\n",
    "    <strong> Figura 4: Recuperada de L. Meirovitch. (2001). Fundamentals of Vibrations. McGRAW-HILL International Edition. (Editada) </strong>\n",
    "</p>"
   ]
  },
  {
   "cell_type": "markdown",
   "id": "6ae015ba",
   "metadata": {},
   "source": [
    "Quedando así:\n",
    "\\begin{equation}\n",
    "\\begin{aligned}\n",
    "\\bf{mg}_{\\hat{r2}} &= mg\\cos(\\theta_{2}) \\\\\n",
    "\\bf{mg}_{\\hat\\theta2} &= -mg\\sin(\\theta_{2})\n",
    "\\end{aligned}\n",
    "\\label{11}\\tag{11}\n",
    "\\end{equation}"
   ]
  },
  {
   "cell_type": "markdown",
   "id": "abb231d8",
   "metadata": {},
   "source": [
    "Y finalmente, el cálculo de la fuerza $T$:"
   ]
  },
  {
   "cell_type": "markdown",
   "id": "d38158e4",
   "metadata": {},
   "source": [
    "<p style=\"text-align:center\">\n",
    "\t<img src=\"fuerza_T.png\" width=30%/></a><br>\n",
    "    <strong> Figura 5: Recuperada de L. Meirovitch. (2001). Fundamentals of Vibrations. McGRAW-HILL International Edition. (Editada) </strong>\n",
    "</p>"
   ]
  },
  {
   "cell_type": "markdown",
   "id": "912d68ff",
   "metadata": {},
   "source": [
    "Así:\n",
    "\\begin{equation}\n",
    "\\begin{aligned}\n",
    "\\bf{T}_{\\hat{r2}} &= -T\\cos(\\theta_{2}-\\theta_{1}) \\\\\n",
    "\\bf{T}_{\\hat\\theta2} &= T\\sin(\\theta_{2}-\\theta_{1})\n",
    "\\end{aligned}\n",
    "\\label{12}\\tag{12}\n",
    "\\end{equation}"
   ]
  },
  {
   "cell_type": "markdown",
   "id": "451c1c1c",
   "metadata": {},
   "source": [
    "Para continuar con el cálculo del momento con respecto al centro de masa, tenemos que por definición, el momento de inercia se calculade la siguiente manera:\n",
    "\n",
    "\\begin{equation}\n",
    "I_{0} = \\int_{cuerpo} x^2 \\, du \\\\\n",
    "du = \\frac{m}{L}dx\n",
    "\\end{equation}\n",
    "\n",
    "Aplicado para este caso, calculamos $I_{C}$:\n",
    "\n",
    "\\begin{align}\n",
    "I_{C} &= \\int_{-\\frac{L_{2}}{2}}^{\\frac{L_{2}}{2}} x^2 \\, du \\\\\n",
    "I_{C} &= \\frac{m}{L_2}\\int_{-\\frac{L_{2}}{2}}^{\\frac{L_{2}}{2}} x^2 \\, dx \\\\\n",
    "I_{C} &= \\frac{m}{L_2}\\left[\\frac{\\left(\\frac{L_{2}}{2}\\right)^3}{3} - \\frac{\\left(-\\frac{L_{2}}{2}\\right)^3}{3}\\right] \\\\\n",
    "I_{C} &= \\frac{m}{L_2}\\left[\\frac{(L_2)^3}{24} + \\frac{(L_2)^3}{24}\\right] \\\\\n",
    "I_{C} &= \\frac{m(L_{2})^2}{12}\n",
    "\\label{13}\\tag{13}\n",
    "\\end{align}"
   ]
  },
  {
   "cell_type": "markdown",
   "id": "49737352",
   "metadata": {},
   "source": [
    "Lo siguiente es calcular el momento angular de las fuerzas. Este corresponde a la suma de los momentos ejercidos por cada una de las fuerzas:"
   ]
  },
  {
   "cell_type": "markdown",
   "id": "32606ad0",
   "metadata": {},
   "source": [
    "En este caso:\n",
    "\n",
    "\\begin{align}\n",
    "M_{C} = M_{F} + M_{mg} + M_{T}\n",
    "\\label{14}\\tag{14}\n",
    "\\end{align}\n",
    "\n",
    "Sabiendo que:\n",
    "\n",
    "\\begin{align}\n",
    "M_{F} = r \\times F,\n",
    "\\end{align}\n",
    "\n",
    "en donde $r$ es el vector posición formado desde el centro de masa hasta la fuerza $F$."
   ]
  },
  {
   "cell_type": "markdown",
   "id": "be054772",
   "metadata": {},
   "source": [
    "<p style=\"text-align:center\">\n",
    "\t<img src=\"momentos.png\" width=30%/></a><br>\n",
    "    <strong> Figura 6: Recuperada de L. Meirovitch. (2001). Fundamentals of Vibrations. McGRAW-HILL International Edition. (Editada) </strong>\n",
    "</p>"
   ]
  },
  {
   "cell_type": "markdown",
   "id": "4e5528f0",
   "metadata": {},
   "source": [
    "Analizando el momento de cada una de las fuerzas:\n",
    "\n",
    "\\begin{align}\n",
    "M_{F} &= r_{F} \\times F = \\frac{L_2}{2}F\\cos(\\theta_2) \\\\\n",
    "M_{mg} &= r_{mg} \\times mg = 0 \\\\\n",
    "M_{T} &= r_{T} \\times T = -\\frac{L_2}{2}T\\sin(\\theta_2-\\theta_1)\n",
    "\\end{align}"
   ]
  },
  {
   "cell_type": "markdown",
   "id": "29097d19",
   "metadata": {},
   "source": [
    "Reemplazando lo obtenido en (11): \n",
    "\\begin{align}\n",
    "M_{C} = \\frac{L_2}{2}F\\cos(\\theta_2) - \\frac{L_2}{2}T\\sin(\\theta_2-\\theta_1)\n",
    "\\label{15}\\tag{15}\n",
    "\\end{align}"
   ]
  },
  {
   "cell_type": "markdown",
   "id": "548215e3",
   "metadata": {},
   "source": [
    "Así, de los cálculos obtenidos en (11), (12), (13) y (15), las fuerzas resultantes y el momento angular sobre el centro de masa son:\n",
    "\n",
    "\\begin{equation}\n",
    "\\begin{aligned}\n",
    "F_{r2} &= F\\sin(\\theta_{2}) + mg\\cos(\\theta_{2}) - T\\cos(\\theta_{2}-\\theta_{1}) \\\\\n",
    "F_{\\theta2} &= F\\cos(\\theta_{2}) - mg\\sin(\\theta_{2}) + T\\sin(\\theta_{2}-\\theta_{1}) \\\\\n",
    "M_{C} &= F\\frac{L_2}{2}\\cos(\\theta_{2}) - T\\frac{L_{2}}{2}\\sin(\\theta_{2}-\\theta_{1})\n",
    "\\end{aligned}\n",
    "\\label{16}\\tag{16}\n",
    "\\end{equation}"
   ]
  },
  {
   "cell_type": "markdown",
   "id": "72aebfd0",
   "metadata": {},
   "source": [
    "Finalmente, reemplazando lo obtenido en (6), (7), (8) y (16) en las ecuaciones descritas en (9), tenemos que las ecuaciones de movimiento quedan descritas por:"
   ]
  },
  {
   "cell_type": "markdown",
   "id": "7c849bf6",
   "metadata": {},
   "source": [
    "\\\\begin{equation}\n",
    "\\begin{aligned}\n",
    "F\\sin(\\theta_{2}) + mg\\cos(\\theta_{2}) - T\\cos(\\theta_{2}-\\theta_{1}) &= \\left[L_1\\ddot\\theta_1sin(\\theta_2-\\theta_1)-L_1\\dot{\\theta_1^2}cos(\\theta_2-\\theta_1)-\\frac{L_2}{2}{\\dot\\theta_2^2}\\right]\\\\\n",
    "F\\cos(\\theta_{2}) - mg\\sin(\\theta_{2}) + T\\sin(\\theta_{2}-\\theta_{1}) &= \\left[L_1\\ddot\\theta_1cos(\\theta_2-\\theta_1)+L_1{\\dot\\theta_1^2}sin(\\theta_2-\\theta_1)+\\frac{L_2}{2}\\ddot\\theta_2\\right]\\\\\n",
    "F\\frac{L_2}{2}\\cos(\\theta_{2}) - T\\frac{L_{2}}{2}\\sin(\\theta_{2}-\\theta_{1}) &= \\frac{m(L_{2})^2}{12}\\ddot{\\theta}_{2}\n",
    "\\end{aligned}\n",
    "\\label{17}\\tag{17}\n",
    "\\end{equation}"
   ]
  }
 ],
 "metadata": {
  "kernelspec": {
   "display_name": "acus125",
   "language": "python",
   "name": "acus125"
  },
  "language_info": {
   "codemirror_mode": {
    "name": "ipython",
    "version": 3
   },
   "file_extension": ".py",
   "mimetype": "text/x-python",
   "name": "python",
   "nbconvert_exporter": "python",
   "pygments_lexer": "ipython3",
   "version": "3.7.4"
  }
 },
 "nbformat": 4,
 "nbformat_minor": 5
}
