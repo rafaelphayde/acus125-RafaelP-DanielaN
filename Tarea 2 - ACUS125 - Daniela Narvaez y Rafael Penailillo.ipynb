{
 "cells": [
  {
   "cell_type": "markdown",
   "id": "280fa0bc",
   "metadata": {},
   "source": [
    "<h1 style=\"text-align:center\">Tarea grupal 2</h1>\n",
    "<h3 style=\"text-align:center\">ACUS125: Aislamiento y Análisis de Vibraciones</h3>\n",
    "<p style=\"text-align:center\">Daniela Narváez E.  <br>\n",
    "<a href=\"mailto:vpoblete@uach.cl\">daniela.narvaez01@alumnos.uach.cl</a><br>\n",
    "<p style=\"text-align:center\">Rafael Peñailillo H. <br>\n",
    "<a href=\"mailto:vpoblete@uach.cl\">rafael.penailillo@alumnos.uach.cl</a><br>\n",
    "   "
   ]
  },
  {
   "cell_type": "markdown",
   "id": "f0df063e",
   "metadata": {},
   "source": [
    "## Ejercicio propuesto:\n",
    "> + Realizar demostración de oscilaciones con los distintos tipos de amortiguación"
   ]
  },
  {
   "cell_type": "markdown",
   "id": "90723f47",
   "metadata": {},
   "source": [
    "* Si $x$ representa el desplazamiento de la masa $m$ a la cual el amortiguador está unido, entonces su velocidad es $\\dot{x}$. La fuerza del amortiguador viscoso se dibuja en dirección opuesta a la dirección positiva de $x$."
   ]
  },
  {
   "cell_type": "code",
   "execution_count": 2,
   "id": "68c54526",
   "metadata": {},
   "outputs": [
    {
     "ename": "IndentationError",
     "evalue": "unindent does not match any outer indentation level (<tokenize>, line 3)",
     "output_type": "error",
     "traceback": [
      "\u001b[1;36m  File \u001b[1;32m\"<tokenize>\"\u001b[1;36m, line \u001b[1;32m3\u001b[0m\n\u001b[1;33m    <strong> Figura 2: Diagrama de cuerpo libre</strong>\u001b[0m\n\u001b[1;37m    ^\u001b[0m\n\u001b[1;31mIndentationError\u001b[0m\u001b[1;31m:\u001b[0m unindent does not match any outer indentation level\n"
     ]
    }
   ],
   "source": [
    "<p style=\"text-align:center\">\n",
    "\t<img src=\"2.png\" alt=\"MDOF\" width=25%/></a><br>\n",
    "    <strong> Figura 1: Diagrama de cuerpo libre</strong>\n",
    "</p>+\n"
   ]
  },
  {
   "cell_type": "markdown",
   "id": "f67cbb4d",
   "metadata": {},
   "source": [
    "* De la Fig. 1 y usando la 2$^{a}$ ley de Newton:"
   ]
  },
  {
   "cell_type": "markdown",
   "id": "f9df4b09",
   "metadata": {},
   "source": [
    "\\begin{align*}\n",
    "m\\ddot{x}(t)+c\\dot{x}(t)+kx(t) &= 0\n",
    "\\label{eq12}\\tag{1}\n",
    "\\end{align*}"
   ]
  },
  {
   "cell_type": "markdown",
   "id": "72210342",
   "metadata": {},
   "source": [
    "donde $m\\ddot{x}(t)$ es la fuerza inercial, $c\\dot{x}(t)$ el amortiguamiento viscoso y $kx(t)$ la fuerza elastica"
   ]
  },
  {
   "cell_type": "markdown",
   "id": "1f19b549",
   "metadata": {},
   "source": [
    "donde dividiendo por m queda de la siguiente manera:"
   ]
  },
  {
   "cell_type": "markdown",
   "id": "041e824c",
   "metadata": {},
   "source": [
    "\\begin{align*}\n",
    "\\ddot{x}(t)+\\frac{c}{m}\\dot{x}(t)+\\omega_0^2(t) &= 0\n",
    "\\label{eq2}\\tag{2}\n",
    "\\end{align*}"
   ]
  },
  {
   "cell_type": "markdown",
   "id": "25f5c5d9",
   "metadata": {},
   "source": [
    "Definimos la razón de amortiguamiento como:"
   ]
  },
  {
   "cell_type": "markdown",
   "id": "486203a4",
   "metadata": {},
   "source": [
    "\\begin{align}\n",
    "\\zeta&=\\frac{c}{2\\sqrt{km}}\n",
    "\\end{align}"
   ]
  },
  {
   "cell_type": "markdown",
   "id": "dc5760a2",
   "metadata": {},
   "source": [
    "de la ec ([2](#mjx-eqn-eq2)) se reemplazaría:"
   ]
  },
  {
   "cell_type": "markdown",
   "id": "95e113b3",
   "metadata": {},
   "source": [
    "\\begin{align}\n",
    "\\frac{c}{m}=\\frac{2\\zeta\\sqrt{km}}{m}= 2\\zeta\\left(\\sqrt{\\frac{k}{m}}\\right)=2\\zeta\\omega_n\n",
    "\\end{align}"
   ]
  },
  {
   "cell_type": "markdown",
   "id": "66453e90",
   "metadata": {},
   "source": [
    "resultando:"
   ]
  },
  {
   "cell_type": "markdown",
   "id": "1dec885c",
   "metadata": {},
   "source": [
    "\\begin{align}\n",
    "\\ddot{x}(t)+2\\zeta\\omega_0\\dot{x}(t)+\\omega_0^2x(t)=0\n",
    "\\label{eq3}\\tag{3}\n",
    "\\end{align}"
   ]
  },
  {
   "cell_type": "markdown",
   "id": "471db8bb",
   "metadata": {},
   "source": [
    "Una posible solución de ([2](#mjx-eqn-eq2)) es:"
   ]
  },
  {
   "cell_type": "markdown",
   "id": "a349e2d9",
   "metadata": {},
   "source": [
    "\\begin{align}\n",
    "x(t)&=Ae^{\\alpha t}\n",
    "\\end{align}"
   ]
  },
  {
   "cell_type": "markdown",
   "id": "6a1e3824",
   "metadata": {},
   "source": [
    "\\begin{align}\n",
    "\\dot{x}(t) & =\\alpha Ae^{\\alpha t}=\\alpha x(t)\n",
    "\\end{align}"
   ]
  },
  {
   "cell_type": "markdown",
   "id": "ac3c409a",
   "metadata": {},
   "source": [
    "\\begin{align}\n",
    "\\ddot{x}(t)& =\\alpha^2 x(t)\n",
    "\\end{align}"
   ]
  },
  {
   "cell_type": "markdown",
   "id": "36bb330d",
   "metadata": {},
   "source": [
    "sustituyendo:"
   ]
  },
  {
   "cell_type": "markdown",
   "id": "f4fd001b",
   "metadata": {},
   "source": [
    "\\begin{align}\n",
    "\\left[\\alpha^2+2\\zeta\\omega_0\\alpha+{\\omega_0}^2\\right] x(t)=0\n",
    "\\end{align}"
   ]
  },
  {
   "cell_type": "markdown",
   "id": "b99605fd",
   "metadata": {},
   "source": [
    "\\begin{align}\n",
    "\\alpha^2+2\\zeta\\omega_0\\alpha+{\\omega_0}^2=0\n",
    "\\end{align}"
   ]
  },
  {
   "cell_type": "markdown",
   "id": "7ba6a949",
   "metadata": {},
   "source": [
    "\\begin{align}\n",
    "\\alpha=\\frac{-2\\zeta\\omega_0\\pm\\sqrt{(2\\zeta\\omega_0)^2-4\\omega_0^2}}{2}\n",
    "\\end{align}"
   ]
  },
  {
   "cell_type": "markdown",
   "id": "07762ff7",
   "metadata": {},
   "source": [
    "La ecuación caracteristica seria:"
   ]
  },
  {
   "cell_type": "markdown",
   "id": "71f64ce9",
   "metadata": {},
   "source": [
    "\\begin{align}\n",
    "\\alpha=\\omega_0 \\left[-\\zeta\\pm j\\sqrt{\\zeta^2-1}\\right]\n",
    "\\label{eq4}\\tag{4}\n",
    "\\end{align}"
   ]
  },
  {
   "cell_type": "markdown",
   "id": "2b2f0095",
   "metadata": {},
   "source": [
    "#### 1. Cuando $\\zeta=0$"
   ]
  },
  {
   "cell_type": "markdown",
   "id": "baf77493",
   "metadata": {},
   "source": [
    "+ **Las raíces son puramente imaginarias** como"
   ]
  },
  {
   "cell_type": "markdown",
   "id": "defaf236",
   "metadata": {},
   "source": [
    "\\begin{align*}\n",
    "\\alpha&= \\pm\\, j\\omega_{0}\n",
    "\\label{eq5}\\tag{5}\n",
    "\\end{align*}"
   ]
  },
  {
   "cell_type": "markdown",
   "id": "6f277783",
   "metadata": {},
   "source": [
    "* Y las vibraciones serán **no amortiguadas.**"
   ]
  },
  {
   "cell_type": "markdown",
   "id": "0b4f3588",
   "metadata": {},
   "source": [
    "* La solución general es:"
   ]
  },
  {
   "cell_type": "markdown",
   "id": "53d459fc",
   "metadata": {},
   "source": [
    "\\begin{align*}\n",
    "x(t)&=B_{1}e^{j\\omega_{0}t}+B_{2}e^{-j\\omega_{0}t}\n",
    "\\end{align*}"
   ]
  },
  {
   "cell_type": "markdown",
   "id": "0d606dd5",
   "metadata": {},
   "source": [
    "#### 2. Cuando $0<\\zeta<1$"
   ]
  },
  {
   "cell_type": "markdown",
   "id": "d1875237",
   "metadata": {},
   "source": [
    "+ **Las raíces son complejo conjugadas** como"
   ]
  },
  {
   "cell_type": "markdown",
   "id": "f54a34a5",
   "metadata": {},
   "source": [
    "\\begin{align*}\n",
    "\\alpha&= \\omega_{0}\\big(-\\zeta\\,\\pm\\,j\\,\\sqrt{1-\\zeta^{2}} \\big)\n",
    "\\label{eq6}\\tag{6}\n",
    "\\end{align*}"
   ]
  },
  {
   "cell_type": "markdown",
   "id": "ea594221",
   "metadata": {},
   "source": [
    "* Y las vibraciones serán **sub-amortiguadas.**"
   ]
  },
  {
   "cell_type": "markdown",
   "id": "0e1a1f1a",
   "metadata": {},
   "source": [
    "* La solución general que gobierna la ecuación es:"
   ]
  },
  {
   "cell_type": "markdown",
   "id": "03da8007",
   "metadata": {},
   "source": [
    ":\n",
    "\\begin{align*}\n",
    "x(t)&=B_{1}e^{(-\\zeta\\omega_{0}-j\\omega_{0}\\sqrt{1-\\zeta^{2}})t}+B_{2}e^{(-\\zeta\\omega_{0}+j\\omega_{0}\\sqrt{1-\\zeta^{2}})t}\n",
    "\\end{align*}\n"
   ]
  },
  {
   "cell_type": "markdown",
   "id": "7a669dcc",
   "metadata": {},
   "source": [
    "* Una forma de solución es:"
   ]
  },
  {
   "cell_type": "markdown",
   "id": "d96aaeeb",
   "metadata": {},
   "source": [
    "\\begin{align*}\n",
    "x(t)&=Ae^{-\\zeta\\omega_{0}t}\\,{\\text{sen}}\\big( \\omega_{d}t-\\phi_{d}\\big)\n",
    "\\label{eq7}\\tag{7}\n",
    "\\end{align*}"
   ]
  },
  {
   "cell_type": "markdown",
   "id": "c924e195",
   "metadata": {},
   "source": [
    "donde:"
   ]
  },
  {
   "cell_type": "markdown",
   "id": "a60c94db",
   "metadata": {},
   "source": [
    "\\begin{align*}\n",
    "A&=\\sqrt{x_{0}^{2}+\\left(\\frac{\\dot{x}(0)+\\zeta\\omega_{0}x_{0}}{\\omega_{d}}\\right)^{2}}\n",
    "\\label{eq8}\\tag{8}\n",
    "\\end{align*}"
   ]
  },
  {
   "cell_type": "markdown",
   "id": "4bd58f55",
   "metadata": {},
   "source": [
    "\\begin{align*}\n",
    "\\phi&={\\text{tan}}^{-1}\\left( \\frac{x_{0}\\omega_{d}}{\\dot{x}_{0}+\\zeta\\omega_{0}x_{0}} \\right)\n",
    "\\label{eq9}\\tag{9}\n",
    "\\end{align*}"
   ]
  },
  {
   "cell_type": "markdown",
   "id": "870adf03",
   "metadata": {},
   "source": [
    "siendo la **frecuencia natural amortiguada** $\\omega_{d}$ igual a:"
   ]
  },
  {
   "cell_type": "markdown",
   "id": "9caf7f53",
   "metadata": {},
   "source": [
    "\\begin{align*}\n",
    "\\omega_{d}&=\\omega_{0}\\sqrt{1-\\zeta^{2}}\n",
    "\\label{eq10}\\tag{10}\n",
    "\\end{align*}"
   ]
  },
  {
   "cell_type": "markdown",
   "id": "d9e3c2e7",
   "metadata": {},
   "source": [
    "Y el período de la **vibración sub-amortiguada, libre** o también llamado período amortiguado es:"
   ]
  },
  {
   "cell_type": "markdown",
   "id": "02fa18d3",
   "metadata": {},
   "source": [
    "\\begin{align*}\n",
    "T_{d}&=\\frac{2\\pi}{\\omega_{d}}\n",
    "\\label{eq11}\\tag{11}\n",
    "\\end{align*}"
   ]
  },
  {
   "cell_type": "markdown",
   "id": "331ea15a",
   "metadata": {},
   "source": [
    "* Debido al proceso de fricción viscosa, que se resiste al movimiento del sistema, se hace más **lento** el movimiento, lo que se refleja en que $\\omega_{d}<\\omega$ y que $T_{d}>T$."
   ]
  },
  {
   "cell_type": "code",
   "execution_count": 24,
   "id": "6f875df5",
   "metadata": {
    "scrolled": true
   },
   "outputs": [
    {
     "name": "stdout",
     "output_type": "stream",
     "text": [
      "0.035355339059327376\n"
     ]
    },
    {
     "data": {
      "text/plain": [
       "Text(0.5, 1.0, 'Caso sub-amortiguado 0< $\\\\zeta$ <1')"
      ]
     },
     "execution_count": 24,
     "metadata": {},
     "output_type": "execute_result"
    },
    {
     "data": {
      "image/png": "[encoded data removed]",
      "text/plain": [
       "<Figure size 1080x360 with 2 Axes>"
      ]
     },
     "metadata": {
      "needs_background": "light"
     },
     "output_type": "display_data"
    }
   ],
   "source": [
    "import numpy as np\n",
    "from matplotlib import pyplot as plt\n",
    "\n",
    "# Datos ejemplo 1\n",
    "m = 10 # kg\n",
    "c = 5 # kg/s\n",
    "k = 500 # N/m\n",
    "t    = np.linspace(0., 10.0, num=500)\n",
    "# Condiciones iniciales\n",
    "x0   = 0.01 # m\n",
    "v0   = 0.02  # m/s\n",
    "\n",
    "# Calculamos los parametros \n",
    "zeta = c/(2*np.sqrt(k*m))\n",
    "w0   = np.sqrt(k/m)\n",
    "wd   = w0*np.sqrt(1-zeta**2)\n",
    "A    = np.sqrt(x0**2+((v0+zeta*w0*x0)/wd)**2)\n",
    "fid  = np.arctan((x0*wd)/(v0+zeta*w0*x0))\n",
    "T    = 2*np.pi/wd\n",
    "\n",
    "print(zeta)\n",
    "\n",
    "# Gráficamos la solución\n",
    "x    = A*np.exp(-zeta*w0*t)*np.sin(wd*t+fid)\n",
    "#ax   = plt.gca()\n",
    "\n",
    "# Datos ejemplo 2\n",
    "m2 = 5 # kg\n",
    "c2 = 5 # kg/s\n",
    "k2 = 500 # N/m\n",
    "# Condiciones iniciales\n",
    "x0_2   = 0.01 # m\n",
    "v0_2   = 0.02  # m/s\n",
    "\n",
    "# Calculamos los parametros \n",
    "zeta2 = c2/(2*np.sqrt(k2*m2))\n",
    "w0_2   = np.sqrt(k2/m2)\n",
    "wd_2   = w0_2*np.sqrt(1-zeta2**2)\n",
    "A2    = np.sqrt(x0_2**2+((v0_2+zeta2*w0_2*x0_2)/wd_2)**2)\n",
    "fid2 = np.arctan((x0_2*wd_2)/(v0_2+zeta2*w0_2*x0_2))\n",
    "T2    = 2*np.pi/wd_2\n",
    "\n",
    "# Gráficamos la solución\n",
    "y    = A2*np.exp(-zeta2*w0_2*t)*np.sin(wd_2*t2+fid2)\n",
    "#ax   = plt.gca()\n",
    "\n",
    "fig,ax= plt.subplots(1,2,figsize=(15,5))\n",
    "\n",
    "ax[0].plot(t, x,'--',t,-A*np.exp(-zeta*w0*t),'--',label='$\\zeta=0.035$')\n",
    "ax[0].plot(t,A*np.exp(-zeta*w0*t))\n",
    "\n",
    "\n",
    "\n",
    "ax[1].plot(t,y,'--',t,-A2*np.exp(-zeta2*w0_2*t),'--',label='$\\zeta=$')\n",
    "ax[1].plot(t,A2*np.exp(-zeta2*w0_2*t))\n",
    "\n",
    "plt.xlabel('tiempo (s)')\n",
    "plt.ylabel('$x(t)/x0$ ')\n",
    "plt.title('Caso sub-amortiguado 0< $\\zeta$ <1')\n"
   ]
  },
  {
   "cell_type": "markdown",
   "id": "4d5956df",
   "metadata": {},
   "source": [
    "#### 3. Cuando $\\zeta=1$"
   ]
  },
  {
   "cell_type": "markdown",
   "id": "4f211495",
   "metadata": {},
   "source": [
    "* La ecuación característica tiene solamente una raíz:"
   ]
  },
  {
   "cell_type": "markdown",
   "id": "52378ed3",
   "metadata": {},
   "source": [
    "\\begin{align}\n",
    "\\alpha &= -\\omega_{0}\n",
    "\\label{eq12}\\tag{12}\n",
    "\\end{align}"
   ]
  },
  {
   "cell_type": "markdown",
   "id": "9ed1c9d9",
   "metadata": {},
   "source": [
    "* Y las vibraciones serán **críticamente-amortiguadas.**"
   ]
  },
  {
   "cell_type": "markdown",
   "id": "0e325cf8",
   "metadata": {},
   "source": [
    "* En este caso, una solución de la ecuación diferencial es: $e^{-\\omega_{0}t}$. La segunda solución linealmente independiente se tiene al multiplicar la primera por $t$. Así, la solución general es:"
   ]
  },
  {
   "cell_type": "markdown",
   "id": "2a410d62",
   "metadata": {},
   "source": [
    "\\begin{align*}\n",
    "x(t)&=e^{-\\omega_{0}\\,t}\\,(C_{1}+C_{2}\\,t)\n",
    "\\label{eq13}\\tag{13}\n",
    "\\end{align*}"
   ]
  },
  {
   "cell_type": "markdown",
   "id": "7f81e58b",
   "metadata": {},
   "source": [
    "* Si se aplican las condiciones iniciales, se tendrá:"
   ]
  },
  {
   "cell_type": "markdown",
   "id": "ae190b89",
   "metadata": {},
   "source": [
    "\\begin{align*}\n",
    "x(t)&=e^{-\\omega_{0}\\,t}\\,[\\,x_{0}+(\\dot{x}_{0}+\\omega_{0}x_{0})\\cdot t\\,]\n",
    "\\label{eq14}\\tag{14}\n",
    "\\end{align*}"
   ]
  },
  {
   "cell_type": "code",
   "execution_count": 36,
   "id": "87285fad",
   "metadata": {},
   "outputs": [
    {
     "name": "stdout",
     "output_type": "stream",
     "text": [
      "32\n",
      "1.0\n"
     ]
    },
    {
     "data": {
      "text/plain": [
       "<matplotlib.legend.Legend at 0x1c1d7dc5c88>"
      ]
     },
     "execution_count": 36,
     "metadata": {},
     "output_type": "execute_result"
    },
    {
     "data": {
      "image/png": "[encoded data removed]",
      "text/plain": [
       "<Figure size 432x288 with 1 Axes>"
      ]
     },
     "metadata": {
      "needs_background": "light"
     },
     "output_type": "display_data"
    }
   ],
   "source": [
    "import numpy as np\n",
    "from matplotlib import pyplot as plt\n",
    "\n",
    "# Datos\n",
    "wn1  = 2 # (rad/s)\n",
    "m    = 8 # kg\n",
    "k    = m*wn1**2\n",
    "\n",
    "print(k)\n",
    "m = 8 # kg\n",
    "c = 32 # kg/s\n",
    "k = 32 # N/m\n",
    "\n",
    "# Condiciones iniciales\n",
    "x10   = 0.001 # m\n",
    "v10   = 0.01  #m/s\n",
    "v02  = -0.015  #m/s\n",
    "\n",
    "# Calculamos los parametros \n",
    "zeta = c/(2*np.sqrt(k*m))\n",
    "#w0   = np.sqrt(k/m)\n",
    "#wd   = w0*np.sqrt(1-zeta**2)\n",
    "#A    = np.sqrt(x0**2+((v0+zeta*w0*x0)/wd)**2)\n",
    "#fid  = np.arctan((x0*wd)/(v0+zeta*w0*x0))\n",
    "#T    = 2*np.pi/wd\n",
    "\n",
    "print(zeta)\n",
    "\n",
    "# Dibujamos la solución\n",
    "t    = np.linspace(0., 10.0, num=500)\n",
    "x    = np.exp(-zeta*wn1*t)*(x10+(v10+wn1*x10)*t )\n",
    "ax   = plt.gca()\n",
    "\n",
    "ax.plot(t, x,label='$\\zeta=1$')\n",
    "\n",
    "plt.xlabel('tiempo (s)')\n",
    "plt.ylabel('$x(t)/x0$ ')\n",
    "plt.title('Caso Criticamente amortiguado $\\zeta=1$')\n",
    "ax.legend()\n",
    "\n"
   ]
  },
  {
   "cell_type": "markdown",
   "id": "082bdf8f",
   "metadata": {},
   "source": [
    "#### 4. Cuando $\\zeta>1$"
   ]
  },
  {
   "cell_type": "markdown",
   "id": "79194dbc",
   "metadata": {},
   "source": [
    "* La ecuación características tiene dos raices reales:"
   ]
  },
  {
   "cell_type": "markdown",
   "id": "3d507e4f",
   "metadata": {},
   "source": [
    "\\begin{align*}\n",
    "\\alpha&= \\omega_{0}\\left(-\\zeta\\pm\\sqrt{\\zeta^{2}-1}\\right)\n",
    "\\label{eq15}\\tag{15}\n",
    "\\end{align*}"
   ]
  },
  {
   "cell_type": "markdown",
   "id": "edae51a5",
   "metadata": {},
   "source": [
    "* Y las vibraciones serán **sobre-amortiguadas.**"
   ]
  },
  {
   "cell_type": "markdown",
   "id": "0fee09aa",
   "metadata": {},
   "source": [
    "* La solución general de la Ec. ([3](#mjx-eqn-eq3)) es:"
   ]
  },
  {
   "cell_type": "markdown",
   "id": "9b7bebc9",
   "metadata": {},
   "source": [
    "\\begin{align*}\n",
    "x(t)&=e^{-\\omega_{0}t}\\bigg[C_{1}e^{-\\omega_{0}\\big(\\sqrt{\\zeta^{2}-1}\\big)\\,t}+C_{2}e^{\\omega_{0}\\big(\\sqrt{\\zeta^{2}-1}\\big)\\,t}\\bigg]\n",
    "\\label{eq16}\\tag{16}\n",
    "\\end{align*}"
   ]
  },
  {
   "cell_type": "markdown",
   "id": "7d020ccf",
   "metadata": {},
   "source": [
    "* Aplicación de condiciones iniciales en la Ec. ([16](#mjx-eqn-eq16)):\n",
    "\\begin{align*}\n",
    "x(0)&=x_{0}\n",
    "\\end{align*} \n",
    "\\begin{align*}\n",
    "\\dot{x}(0)&=\\dot{x}_{0}\n",
    "\\end{align*}"
   ]
  },
  {
   "cell_type": "markdown",
   "id": "661abaa4",
   "metadata": {},
   "source": [
    "* Se obtiene:"
   ]
  },
  {
   "cell_type": "markdown",
   "id": "a83017cf",
   "metadata": {},
   "source": [
    "\\begin{align*}\n",
    "x(t)&=\\frac{e^{-\\omega_{0}t}}{2\\big(\\sqrt{\\zeta^{2}-1}\\big)}\\,\\cdot\\bigg\\{\\,\\bigg[\\frac{\\dot{x}_{0}}{\\omega_{0}}+x_{0}\\,\\big(\\zeta+\\sqrt{\\zeta^{2}-1}\\,\\big)\\bigg]\\,e^{\\omega_{0}\\big(\\sqrt{\\zeta^{2}-1}\\big)\\,t}\\,+\\,\\bigg[-\\frac{\\dot{x}_{0}}{\\omega_{0}}+x_{0}\\,\\big(-\\zeta+\\sqrt{\\zeta^{2}-1}\\,\\big)\\bigg]\\,e^{-\\omega_{0}\\big(\\sqrt{\\zeta^{2}-1}\\big)\\,t}\\,\\bigg\\}\n",
    "\\label{eq17}\\tag{17}\n",
    "\\end{align*}"
   ]
  },
  {
   "cell_type": "code",
   "execution_count": 40,
   "id": "0306a33d",
   "metadata": {},
   "outputs": [
    {
     "data": {
      "text/plain": [
       "<matplotlib.legend.Legend at 0x1c1d8511808>"
      ]
     },
     "execution_count": 40,
     "metadata": {},
     "output_type": "execute_result"
    },
    {
     "data": {
      "image/png": "[encoded data removed]",
      "text/plain": [
       "<Figure size 432x288 with 1 Axes>"
      ]
     },
     "metadata": {
      "needs_background": "light"
     },
     "output_type": "display_data"
    }
   ],
   "source": [
    "import numpy as np\n",
    "from matplotlib import pyplot as plt\n",
    "\n",
    "w0  = 3 # (rad/s)\n",
    "z   = 1.2\n",
    "x0  = 1 # 1 mm\n",
    "v01 = 9\n",
    "v02 = -9 # mm/s\n",
    "\n",
    "t  = np.linspace(0., 3.0, num=500)\n",
    "x1  = (np.exp(-z*w0*t)/2*np.sqrt(z**2-1))*((v01/w0+x0*(z+np.sqrt(z**2-1)))*np.exp(w0*t*np.sqrt(z**2-1))+(-v01/w0+x0*(-z+np.sqrt(z**2-1)))*np.exp(-w0*t*np.sqrt(z**2-1)))\n",
    "x2  = (np.exp(-z*w0*t)/2*np.sqrt(z**2-1))*((v02/w0+x0*(z+np.sqrt(z**2-1)))*np.exp(w0*t*np.sqrt(z**2-1))+(-v02/w0+x0*(-z+np.sqrt(z**2-1)))*np.exp(-w0*t*np.sqrt(z**2-1)))\n",
    "\n",
    "#A = np.exp(-z*w0*t)\n",
    "#B = 2*np.sqrt(z**2-1)\n",
    "#C = v0/w0 + x0*(z+np.sqrt((z**2)-1))\n",
    "#D = np.exp((w0*np.sqrt((z**2)-1))*t)\n",
    "#E = -v0/w0 + x0*(-z+np.sqrt((z**2)-1))\n",
    "#F = np.exp((-w0*np.sqrt((z**2)-1))*t)\n",
    "#x = (A/B)*(C*D+E*F)\n",
    "\n",
    "ax   = plt.gca()\n",
    "ax.plot(t, x1,t,x2,label='$v_{0}=1.2$')\n",
    "\n",
    "plt.xlabel('tiempo (s)')\n",
    "plt.ylabel('$x(t)$ (mm)')\n",
    "plt.title('Caso Sobreamortiguado $\\zeta>1$')\n",
    "ax.legend()\n"
   ]
  }
 ],
 "metadata": {
  "kernelspec": {
   "display_name": "ACUS125",
   "language": "python",
   "name": "acus125"
  },
  "language_info": {
   "codemirror_mode": {
    "name": "ipython",
    "version": 3
   },
   "file_extension": ".py",
   "mimetype": "text/x-python",
   "name": "python",
   "nbconvert_exporter": "python",
   "pygments_lexer": "ipython3",
   "version": "3.7.4"
  }
 },
 "nbformat": 4,
 "nbformat_minor": 5
}
