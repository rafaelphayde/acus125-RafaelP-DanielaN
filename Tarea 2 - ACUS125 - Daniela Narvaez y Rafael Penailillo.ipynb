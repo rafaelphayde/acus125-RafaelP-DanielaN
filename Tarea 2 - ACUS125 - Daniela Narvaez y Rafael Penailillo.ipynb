{
 "cells": [
  {
   "cell_type": "markdown",
   "id": "280fa0bc",
   "metadata": {},
   "source": [
    "<h1 style=\"text-align:center\">Tarea grupal 2</h1>\n",
    "<h3 style=\"text-align:center\">ACUS125: Aislamiento y Análisis de Vibraciones</h3>\n",
    "<p style=\"text-align:center\">Daniela Narváez E.  <br>\n",
    "<a href=\"mailto:vpoblete@uach.cl\">daniela.narvaez01@alumnos.uach.cl</a><br>\n",
    "<p style=\"text-align:center\">Rafael Peñailillo H. <br>\n",
    "<a href=\"mailto:vpoblete@uach.cl\">rafael.penailillo@alumnos.uach.cl</a><br>\n",
    "   "
   ]
  },
  {
   "cell_type": "markdown",
   "id": "f0df063e",
   "metadata": {},
   "source": [
    "## Ejercicio propuesto:\n",
    "> + Realizar demostración de oscilaciones con los distintos tipos de amortiguación"
   ]
  },
  {
   "cell_type": "markdown",
   "id": "ff1f76b8",
   "metadata": {},
   "source": [
    "\\begin{align*}\n",
    "m\\ddot{x}(t)+c\\dot{x}(t)+kx(t) &= 0\n",
    "\\label{eq12}\\tag{1}\n",
    "\\end{align*}"
   ]
  },
  {
   "cell_type": "markdown",
   "id": "ca866c7d",
   "metadata": {},
   "source": [
    "donde $m\\ddot{x}(t)$ es la fuerza inercial, $c\\dot{x}(t)$ el amortiguamiento viscoso y $kx(t)$ la fuerza elastica"
   ]
  },
  {
   "cell_type": "markdown",
   "id": "751c1262",
   "metadata": {},
   "source": [
    "donde dividiendo por m queda de la siguiente manera:"
   ]
  },
  {
   "cell_type": "markdown",
   "id": "3d467ba6",
   "metadata": {},
   "source": [
    "\\begin{align*}\n",
    "\\ddot{x}(t)+\\frac{c}{m}\\dot{x}(t)+\\omega_0^2(t) &= 0\n",
    "\\label{eq2}\\tag{2}\n",
    "\\end{align*}"
   ]
  },
  {
   "cell_type": "markdown",
   "id": "c7e4c297",
   "metadata": {},
   "source": [
    "Definimos la razon de amortiguamiento como:"
   ]
  },
  {
   "cell_type": "markdown",
   "id": "19586f77",
   "metadata": {},
   "source": [
    "\\begin{align}\n",
    "\\zeta&=\\frac{c}{2\\sqrt{km}}\n",
    "\\end{align}"
   ]
  },
  {
   "cell_type": "markdown",
   "id": "899e62ef",
   "metadata": {},
   "source": [
    "de la ec ([2](#mjx-eqn-eq2)) se reemplazaria:"
   ]
  },
  {
   "cell_type": "markdown",
   "id": "c86169af",
   "metadata": {},
   "source": [
    "\\begin{align}\n",
    "\\frac{c}{m}=\\frac{2\\zeta\\sqrt{km}}{m}= 2\\zeta\\left(\\sqrt{\\frac{k}{m}}\\right)=2\\zeta\\omega_n\n",
    "\\end{align}"
   ]
  },
  {
   "cell_type": "markdown",
   "id": "921c63f4",
   "metadata": {},
   "source": [
    "resultando:"
   ]
  },
  {
   "cell_type": "markdown",
   "id": "0f62ebfb",
   "metadata": {},
   "source": [
    "\\begin{align}\n",
    "\\ddot{x}(t)+2\\zeta\\omega_0\\dot{x}(t)+\\omega_0^2x(t)=0\n",
    "\\label{eq3}\\tag{3}\n",
    "\\end{align}"
   ]
  },
  {
   "cell_type": "markdown",
   "id": "7e85d0f5",
   "metadata": {},
   "source": [
    "Una posible solución de ([2](#mjx-eqn-eq2)) es:"
   ]
  },
  {
   "cell_type": "markdown",
   "id": "992893eb",
   "metadata": {},
   "source": [
    "\\begin{align}\n",
    "x(t)&=Ae^{\\alpha t}\n",
    "\\end{align}"
   ]
  },
  {
   "cell_type": "markdown",
   "id": "99f864e4",
   "metadata": {},
   "source": [
    "\\begin{align}\n",
    "\\dot{x}(t) & =\\alpha Ae^{\\alpha t}=\\alpha x(t)\n",
    "\\end{align}"
   ]
  },
  {
   "cell_type": "markdown",
   "id": "b7e16166",
   "metadata": {},
   "source": [
    "\\begin{align}\n",
    "\\ddot{x}(t)& =\\alpha^2 x(t)\n",
    "\\end{align}"
   ]
  },
  {
   "cell_type": "markdown",
   "id": "c6bc37c9",
   "metadata": {},
   "source": [
    "sustituyendo:"
   ]
  },
  {
   "cell_type": "markdown",
   "id": "0be1989d",
   "metadata": {},
   "source": [
    "\\begin{align}\n",
    "\\left[\\alpha^2+2\\zeta\\omega_0\\alpha+{\\omega_0}^2\\right] x(t)=0\n",
    "\\end{align}"
   ]
  },
  {
   "cell_type": "markdown",
   "id": "b4d52ee3",
   "metadata": {},
   "source": [
    "\\begin{align}\n",
    "\\alpha^2+2\\zeta\\omega_0\\alpha+{\\omega_0}^2=0\n",
    "\\end{align}"
   ]
  },
  {
   "cell_type": "markdown",
   "id": "5263db17",
   "metadata": {},
   "source": [
    "\\begin{align}\n",
    "\\alpha=\\frac{-2\\zeta\\omega_0\\pm\\sqrt{(2\\zeta\\omega_0)^2-4\\omega_0^2}}{2}\n",
    "\\end{align}"
   ]
  },
  {
   "cell_type": "markdown",
   "id": "2f1e0c3a",
   "metadata": {},
   "source": [
    "La ecuación caracteristica seria:"
   ]
  },
  {
   "cell_type": "markdown",
   "id": "6d341e17",
   "metadata": {},
   "source": [
    "\\begin{align}\n",
    "\\alpha=\\omega_0 \\left[-\\zeta\\pm j\\sqrt{\\zeta^2-1}\\right]\n",
    "\\label{eq4}\\tag{4}\n",
    "\\end{align}"
   ]
  },
  {
   "cell_type": "markdown",
   "id": "2b2f0095",
   "metadata": {},
   "source": [
    "#### 1. Cuando $\\zeta=0$"
   ]
  },
  {
   "cell_type": "markdown",
   "id": "baf77493",
   "metadata": {},
   "source": [
    "+ **Las raíces son puramente imaginarias** como"
   ]
  },
  {
   "cell_type": "markdown",
   "id": "defaf236",
   "metadata": {},
   "source": [
    "\\begin{align*}\n",
    "\\alpha&= \\pm\\, j\\omega_{0}\n",
    "\\label{eq5}\\tag{5}\n",
    "\\end{align*}"
   ]
  },
  {
   "cell_type": "markdown",
   "id": "6f277783",
   "metadata": {},
   "source": [
    "* Y las vibraciones serán **no amortiguadas.**"
   ]
  },
  {
   "cell_type": "markdown",
   "id": "0b4f3588",
   "metadata": {},
   "source": [
    "* La solución general es:"
   ]
  },
  {
   "cell_type": "markdown",
   "id": "53d459fc",
   "metadata": {},
   "source": [
    "\\begin{align*}\n",
    "x(t)&=B_{1}e^{j\\omega_{0}t}+B_{2}e^{-j\\omega_{0}t}\n",
    "\\end{align*}"
   ]
  },
  {
   "cell_type": "markdown",
   "id": "0d606dd5",
   "metadata": {},
   "source": [
    "#### 2. Cuando $0<\\zeta<1$"
   ]
  },
  {
   "cell_type": "markdown",
   "id": "d1875237",
   "metadata": {},
   "source": [
    "+ **Las raíces son complejo conjugadas** como"
   ]
  },
  {
   "cell_type": "markdown",
   "id": "f54a34a5",
   "metadata": {},
   "source": [
    "\\begin{align*}\n",
    "\\alpha&= \\omega_{0}\\big(-\\zeta\\,\\pm\\,j\\,\\sqrt{1-\\zeta^{2}} \\big)\n",
    "\\label{eq6}\\tag{6}\n",
    "\\end{align*}"
   ]
  },
  {
   "cell_type": "markdown",
   "id": "ea594221",
   "metadata": {},
   "source": [
    "* Y las vibraciones serán **sub-amortiguadas.**"
   ]
  },
  {
   "cell_type": "markdown",
   "id": "0e1a1f1a",
   "metadata": {},
   "source": [
    "* La solución general que gobierna la ecuación es:"
   ]
  },
  {
   "cell_type": "markdown",
   "id": "03da8007",
   "metadata": {},
   "source": [
    ":\n",
    "\\begin{align*}\n",
    "x(t)&=B_{1}e^{(-\\zeta\\omega_{0}-j\\omega_{0}\\sqrt{1-\\zeta^{2}})t}+B_{2}e^{(-\\zeta\\omega_{0}+j\\omega_{0}\\sqrt{1-\\zeta^{2}})t}\n",
    "\\end{align*}\n"
   ]
  },
  {
   "cell_type": "markdown",
   "id": "7a669dcc",
   "metadata": {},
   "source": [
    "* Una forma de solución es:"
   ]
  },
  {
   "cell_type": "markdown",
   "id": "d96aaeeb",
   "metadata": {},
   "source": [
    "\\begin{align*}\n",
    "x(t)&=Ae^{-\\zeta\\omega_{0}t}\\,{\\text{sen}}\\big( \\omega_{d}t-\\phi_{d}\\big)\n",
    "\\label{eq7}\\tag{7}\n",
    "\\end{align*}"
   ]
  },
  {
   "cell_type": "markdown",
   "id": "c924e195",
   "metadata": {},
   "source": [
    "donde:"
   ]
  },
  {
   "cell_type": "markdown",
   "id": "a60c94db",
   "metadata": {},
   "source": [
    "\\begin{align*}\n",
    "A&=\\sqrt{x_{0}^{2}+\\left(\\frac{\\dot{x}(0)+\\zeta\\omega_{0}x_{0}}{\\omega_{d}}\\right)^{2}}\n",
    "\\label{eq8}\\tag{8}\n",
    "\\end{align*}"
   ]
  },
  {
   "cell_type": "markdown",
   "id": "4bd58f55",
   "metadata": {},
   "source": [
    "\\begin{align*}\n",
    "\\phi&={\\text{tan}}^{-1}\\left( \\frac{x_{0}\\omega_{d}}{\\dot{x}_{0}+\\zeta\\omega_{0}x_{0}} \\right)\n",
    "\\label{eq9}\\tag{9}\n",
    "\\end{align*}"
   ]
  },
  {
   "cell_type": "markdown",
   "id": "870adf03",
   "metadata": {},
   "source": [
    "siendo la **frecuencia natural amortiguada** $\\omega_{d}$ igual a:"
   ]
  },
  {
   "cell_type": "markdown",
   "id": "9caf7f53",
   "metadata": {},
   "source": [
    "\\begin{align*}\n",
    "\\omega_{d}&=\\omega_{0}\\sqrt{1-\\zeta^{2}}\n",
    "\\label{eq10}\\tag{10}\n",
    "\\end{align*}"
   ]
  },
  {
   "cell_type": "markdown",
   "id": "d9e3c2e7",
   "metadata": {},
   "source": [
    "Y el período de la **vibración sub-amortiguada, libre** o también llamado período amortiguado es:"
   ]
  },
  {
   "cell_type": "markdown",
   "id": "02fa18d3",
   "metadata": {},
   "source": [
    "\\begin{align*}\n",
    "T_{d}&=\\frac{2\\pi}{\\omega_{d}}\n",
    "\\label{eq11}\\tag{11}\n",
    "\\end{align*}"
   ]
  },
  {
   "cell_type": "markdown",
   "id": "331ea15a",
   "metadata": {},
   "source": [
    "* Debido al proceso de fricción viscosa, que se resiste al movimiento del sistema, se hace más **lento** el movimiento, lo que se refleja en que $\\omega_{d}<\\omega$ y que $T_{d}>T$."
   ]
  },
  {
   "cell_type": "markdown",
   "id": "4d5956df",
   "metadata": {},
   "source": [
    "#### 3. Cuando $\\zeta=1$"
   ]
  },
  {
   "cell_type": "markdown",
   "id": "4f211495",
   "metadata": {},
   "source": [
    "* La ecuación característica tiene solamente una raíz:"
   ]
  },
  {
   "cell_type": "markdown",
   "id": "52378ed3",
   "metadata": {},
   "source": [
    "\\begin{align*}\n",
    "\\alpha&= -\\omega_{0}\n",
    "\\label{eq12}\\tag{12}\n",
    "\\end{align*}"
   ]
  },
  {
   "cell_type": "markdown",
   "id": "9ed1c9d9",
   "metadata": {},
   "source": [
    "* Y las vibraciones serán **críticamente-amortiguadas.**"
   ]
  },
  {
   "cell_type": "markdown",
   "id": "0e325cf8",
   "metadata": {},
   "source": [
    "* En este caso, una solución de la ecuación diferencial es: $e^{-\\omega_{0}t}$. La segunda solución linealmente independiente se tiene al multiplicar la primera por $t$. Así, la solución general es:"
   ]
  },
  {
   "cell_type": "markdown",
   "id": "2a410d62",
   "metadata": {},
   "source": [
    "\\begin{align*}\n",
    "x(t)&=e^{-\\omega_{0}\\,t}\\,(C_{1}+C_{2}\\,t)\n",
    "\\label{eq13}\\tag{13}\n",
    "\\end{align*}"
   ]
  },
  {
   "cell_type": "markdown",
   "id": "7f81e58b",
   "metadata": {},
   "source": [
    "* Si se aplican las condiciones iniciales, se tendrá:"
   ]
  },
  {
   "cell_type": "markdown",
   "id": "ae190b89",
   "metadata": {},
   "source": [
    "\\begin{align*}\n",
    "x(t)&=e^{-\\omega_{0}\\,t}\\,[\\,x_{0}+(\\dot{x}_{0}+\\omega_{0}x_{0})\\cdot t\\,]\n",
    "\\label{eq14}\\tag{14}\n",
    "\\end{align*}"
   ]
  },
  {
   "cell_type": "markdown",
   "id": "082bdf8f",
   "metadata": {},
   "source": [
    "#### 4. Cuando $\\zeta>1$"
   ]
  },
  {
   "cell_type": "markdown",
   "id": "79194dbc",
   "metadata": {},
   "source": [
    "* La ecuación características tiene dos raices reales:"
   ]
  },
  {
   "cell_type": "markdown",
   "id": "3d507e4f",
   "metadata": {},
   "source": [
    "\\begin{align*}\n",
    "\\alpha&= \\omega_{0}\\left(-\\zeta\\pm\\sqrt{\\zeta^{2}-1}\\right)\n",
    "\\label{eq15}\\tag{15}\n",
    "\\end{align*}"
   ]
  },
  {
   "cell_type": "markdown",
   "id": "edae51a5",
   "metadata": {},
   "source": [
    "* Y las vibraciones serán **sobre-amortiguadas.**"
   ]
  },
  {
   "cell_type": "markdown",
   "id": "0fee09aa",
   "metadata": {},
   "source": [
    "* La solución general de la Ec. ([3](#mjx-eqn-eq3)) es:"
   ]
  },
  {
   "cell_type": "markdown",
   "id": "9b7bebc9",
   "metadata": {},
   "source": [
    "\\begin{align*}\n",
    "x(t)&=e^{-\\omega_{0}t}\\bigg[C_{1}e^{-\\omega_{0}\\big(\\sqrt{\\zeta^{2}-1}\\big)\\,t}+C_{2}e^{\\omega_{0}\\big(\\sqrt{\\zeta^{2}-1}\\big)\\,t}\\bigg]\n",
    "\\label{eq16}\\tag{16}\n",
    "\\end{align*}"
   ]
  },
  {
   "cell_type": "markdown",
   "id": "7d020ccf",
   "metadata": {},
   "source": [
    "* Aplicación de condiciones iniciales en la Ec. ([16](#mjx-eqn-eq16)):\n",
    "\\begin{align*}\n",
    "x(0)&=x_{0}\n",
    "\\end{align*} \n",
    "\\begin{align*}\n",
    "\\dot{x}(0)&=\\dot{x}_{0}\n",
    "\\end{align*}"
   ]
  },
  {
   "cell_type": "markdown",
   "id": "661abaa4",
   "metadata": {},
   "source": [
    "* Se obtiene:"
   ]
  },
  {
   "cell_type": "markdown",
   "id": "a83017cf",
   "metadata": {},
   "source": [
    "\\begin{align*}\n",
    "x(t)&=\\frac{e^{-\\omega_{0}t}}{2\\big(\\sqrt{\\zeta^{2}-1}\\big)}\\,\\cdot\\bigg\\{\\,\\bigg[\\frac{\\dot{x}_{0}}{\\omega_{0}}+x_{0}\\,\\big(\\zeta+\\sqrt{\\zeta^{2}-1}\\,\\big)\\bigg]\\,e^{\\omega_{0}\\big(\\sqrt{\\zeta^{2}-1}\\big)\\,t}\\,+\\,\\bigg[-\\frac{\\dot{x}_{0}}{\\omega_{0}}+x_{0}\\,\\big(-\\zeta+\\sqrt{\\zeta^{2}-1}\\,\\big)\\bigg]\\,e^{-\\omega_{0}\\big(\\sqrt{\\zeta^{2}-1}\\big)\\,t}\\,\\bigg\\}\n",
    "\\label{eq17}\\tag{17}\n",
    "\\end{align*}"
   ]
  },
  {
   "cell_type": "markdown",
   "id": "3d79b640",
   "metadata": {},
   "source": []
  }
 ],
 "metadata": {
  "kernelspec": {
   "display_name": "ACUS125",
   "language": "python",
   "name": "acus125"
  },
  "language_info": {
   "codemirror_mode": {
    "name": "ipython",
    "version": 3
   },
   "file_extension": ".py",
   "mimetype": "text/x-python",
   "name": "python",
   "nbconvert_exporter": "python",
   "pygments_lexer": "ipython3",
   "version": "3.7.4"
  }
 },
 "nbformat": 4,
 "nbformat_minor": 5
}
